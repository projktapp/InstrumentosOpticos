{
  "nbformat": 4,
  "nbformat_minor": 0,
  "metadata": {
    "colab": {
      "provenance": [],
      "authorship_tag": "ABX9TyOvFBaV07pt5Z0yBVyh24Hf",
      "include_colab_link": true
    },
    "kernelspec": {
      "name": "python3",
      "display_name": "Python 3"
    },
    "language_info": {
      "name": "python"
    }
  },
  "cells": [
    {
      "cell_type": "markdown",
      "metadata": {
        "id": "view-in-github",
        "colab_type": "text"
      },
      "source": [
        "<a href=\"https://colab.research.google.com/github/projktapp/InstrumentosOpticos/blob/main/ProyectoOptico.ipynb\" target=\"_parent\"><img src=\"https://colab.research.google.com/assets/colab-badge.svg\" alt=\"Open In Colab\"/></a>"
      ]
    },
    {
      "cell_type": "code",
      "execution_count": null,
      "metadata": {
        "id": "8SAvPkNzOjdi"
      },
      "outputs": [],
      "source": [
        "import numpy as np\n",
        "import matplotlib.pyplot as plt\n",
        "from scipy.special import jn, jn_zeros"
      ]
    },
    {
      "cell_type": "code",
      "source": [
        "def low_pass_filter(image, cutoff=0.2):\n",
        "\n",
        "    F = np.fft.fft2(image)\n",
        "    F_shifted = np.fft.fftshift(F)\n",
        "\n",
        "    #Ciclos por pizel\n",
        "    rows, cols = image.shape\n",
        "    freq_y = np.fft.fftfreq(rows)\n",
        "    freq_x = np.fft.fftfreq(cols)\n",
        "    fx, fy = np.meshgrid(freq_x, freq_y)\n",
        "\n",
        "    #circulo de frequencias\n",
        "    freq_radius = np.sqrt(fx**2 + fy**2)\n",
        "\n",
        "    #mascara basa bjas\n",
        "    mask = freq_radius <= cutoff\n",
        "\n",
        "    F_filtered = F_shifted * mask\n",
        "    F_inverse_shifted = np.fft.ifftshift(F_filtered)\n",
        "    image_filtered = np.fft.ifft2(F_inverse_shifted)\n",
        "\n",
        "    return image_filtered\n"
      ],
      "metadata": {
        "id": "AjIbveMoOnoW"
      },
      "execution_count": null,
      "outputs": []
    },
    {
      "cell_type": "code",
      "source": [
        "n_x = 2848\n",
        "n_y = 2848\n",
        "px_size = 2.74e-6\n",
        "\n",
        "window_size = 1000\n",
        "\n",
        "\n",
        "x = (np.arange(n_x) - n_x/2) * px_size\n",
        "y = (np.arange(n_y) - n_y/2) * px_size\n",
        "\n",
        "X, Y = np.meshgrid(x, y)\n",
        "\n",
        "lam = 655e-9\n",
        "\n",
        "f_number = 16\n",
        "Difraction_limit = f_number*lam\n",
        "Difraction_limit_px = Difraction_limit/px_size\n",
        "maximum_freq_px = 1/Difraction_limit_px\n",
        "\n",
        "print(Difraction_limit_px)\n",
        "print(maximum_freq_px)\n",
        "\n"
      ],
      "metadata": {
        "id": "GwUmqy7Ffc3G",
        "colab": {
          "base_uri": "https://localhost:8080/"
        },
        "outputId": "0cd0595a-aaa2-4852-9d47-bbbdbe863c58"
      },
      "execution_count": null,
      "outputs": [
        {
          "output_type": "stream",
          "name": "stdout",
          "text": [
            "3.824817518248175\n",
            "0.26145038167938933\n"
          ]
        }
      ]
    },
    {
      "cell_type": "code",
      "source": [
        "#deformacion gaussiana\n",
        "\n",
        "peak_amplitude = 10* 655/2   #desplazamiento pico (nm)\n",
        "sigma = 0.0015            # desviacion\n",
        "\n",
        "# 4) Generate the 2D Gaussian\n",
        "r_squared = X**2 + Y**2\n",
        "gaussian_matrix = peak_amplitude * np.exp(-r_squared / (2 * sigma**2))"
      ],
      "metadata": {
        "id": "AP2nIC7bfy56"
      },
      "execution_count": null,
      "outputs": []
    },
    {
      "cell_type": "code",
      "source": [
        "# Piramide\n",
        "peak_amplitude = 10 * 655 / 2  # peak displacement (nm)\n",
        "L = 0.002                    # half the side-length of the pyramid's base (adjust as needed)\n",
        "\n",
        "# Assuming X and Y are 2D arrays representing your grid coordinates\n",
        "gaussian_matrix = peak_amplitude * np.maximum(0, 1 - np.maximum(np.abs(X), np.abs(Y)) / L)"
      ],
      "metadata": {
        "id": "6lIqTaAgf8q8"
      },
      "execution_count": null,
      "outputs": []
    },
    {
      "cell_type": "code",
      "source": [
        "#modos circulares\n",
        "\n",
        "peak_amplitude = 10* 655/2\n",
        "r_squared = X**2 + Y**2\n",
        "R = np.sqrt(r_squared)\n",
        "a = 0.002\n",
        "\n",
        "m = 1    # angular order\n",
        "n = 1    # radial mode index\n",
        "\n",
        "# Get the first zero of the Bessel function of order m\n",
        "bessel_zero = jn_zeros(m, n)[-1]\n",
        "\n",
        "# Compute the amplitude distribution using the Bessel function\n",
        "gaussian_matrix = peak_amplitude*jn(m, bessel_zero * R / a)\n",
        "\n",
        "# Enforce the boundary condition (zero amplitude for r > a)\n",
        "gaussian_matrix[R > a] = 0"
      ],
      "metadata": {
        "id": "TMMMgFRAjN7l"
      },
      "execution_count": null,
      "outputs": []
    },
    {
      "cell_type": "code",
      "source": [
        "#Modos cuadrados\n",
        "\n",
        "m_square = 2\n",
        "n_square = 3\n",
        "a = 0.002\n",
        "peak_amplitude = 10* 655/2\n",
        "\n",
        "\n",
        "gaussian_matrix = peak_amplitude*(np.sin(m_square * np.pi * (X + a) / (2 * a)) * np.sin(n_square * np.pi * (Y + a) / (2 * a)))\n",
        "\n",
        "mask = (np.abs(X) <= a) & (np.abs(Y) <= a)\n",
        "gaussian_matrix[~mask] = 0\n"
      ],
      "metadata": {
        "id": "NCBjCplrmUrN"
      },
      "execution_count": null,
      "outputs": []
    },
    {
      "cell_type": "code",
      "source": [
        "displacement_range = 1e-9  # 1 nm\n",
        "\n",
        "#asperidad superficie\n",
        "neg_deltaX = 1000 * (np.random.rand(n_y, n_x) - 0.5)\n",
        "\n",
        "\n",
        "desplazamientoGaussiana = (neg_deltaX + gaussian_matrix) * displacement_range  # convert the Gaussian to nm scale\n",
        "desplazamientoAspero = neg_deltaX * displacement_range\n",
        "\n",
        "# Δφ = - (2π / λ) * Δx\n",
        "\n",
        "theta_0 = np.deg2rad(3)\n",
        "R_1 = 50\n",
        "\n",
        "phase_diff_gauss = - (2 * np.pi / lam) * desplazamientoGaussiana\n",
        "phase_diff_aspero = - (2 * np.pi / lam) * desplazamientoAspero\n",
        "phase_diff_speck = - (2 * np.pi / lam) * 1000 * (np.random.rand(n_y, n_x) - 0.5) * displacement_range\n",
        "\n",
        "matrizCampoSpeckleRef = np.exp(1j * phase_diff_speck)\n",
        "CampoRefSpeckFiltrado = low_pass_filter(matrizCampoSpeckleRef, 0.2)\n",
        "\n",
        "phase_diff_sph_obj= (2 * np.pi / lam) * np.sin(theta_0) * X + (np.pi / (lam * R_1)) * ((np.cos(theta_0))**2 * X**2 + Y**2)\n",
        "\n"
      ],
      "metadata": {
        "id": "ETCGERC_Os3L"
      },
      "execution_count": null,
      "outputs": []
    },
    {
      "cell_type": "code",
      "source": [
        "#Diferencia de intensidad de interferencia con objeto deformado y objeto plano\n",
        "#con referencia speckle\n",
        "\n",
        "matrizCampoGauss = np.exp(1j * (phase_diff_gauss + phase_diff_sph_obj))\n",
        "CampoObjetoDeformadoFiltrado = low_pass_filter(matrizCampoGauss, maximum_freq_px/4)\n",
        "\n",
        "matrizCampoAspero = np.exp(1j *( phase_diff_aspero + phase_diff_sph_obj))\n",
        "CampoObjetoPlanoFiltrado = low_pass_filter(matrizCampoAspero, maximum_freq_px/4)\n",
        "\n",
        "#Intensidad interferencia objeto gauss y referencia plana\n",
        "intObjRefSpeck = np.abs(CampoObjetoDeformadoFiltrado + CampoRefSpeckFiltrado)**2\n",
        "\n",
        "#Intensidad interferencia objeto plano y referencia plana\n",
        "intObjPlanRefSpeck = np.abs(CampoObjetoPlanoFiltrado + CampoRefSpeckFiltrado)**2\n",
        "\n",
        "resta = np.abs(intObjRefSpeck - intObjPlanRefSpeck)\n",
        "\n",
        "\n",
        "plt.imshow(resta,\n",
        "           cmap='gray',\n",
        "           #vmin=np.percentile(intObjRefSpeck, 15), vmax=np.percentile(intObjRefSpeck, 85),\n",
        "           norm = 'linear',\n",
        "           origin='lower',\n",
        "           )\n",
        "\n",
        "#plt.title(\"Intensidad interferencia objeto y referencia plana\")\n",
        "plt.axis('off')\n",
        "#plt.savefig(r\"/home/mamarinmo/Documents/Estudio/InstrumentosOpticos/resta.png\", dpi=700, bbox_inches='tight', pad_inches=0)\n",
        "plt.show()"
      ],
      "metadata": {
        "colab": {
          "base_uri": "https://localhost:8080/",
          "height": 406
        },
        "id": "Vg5Ydn-hOtqf",
        "outputId": "82d9213d-c99e-4ae7-a434-2b2fe196c05a"
      },
      "execution_count": null,
      "outputs": [
        {
          "output_type": "display_data",
          "data": {
            "text/plain": [
              "<Figure size 640x480 with 1 Axes>"
            ],
            "image/png": "[encoded data removed]"
          },
          "metadata": {}
        }
      ]
    },
    {
      "cell_type": "code",
      "source": [
        "\n",
        "\n",
        "for m in range(10):\n",
        "  R_1 = 5/(10**m)\n",
        "  print(R_1)\n",
        "\n",
        "  phase_diff_sph_obj= (2 * np.pi / lam) * np.sin(theta_0) * X + (np.pi / (lam * R_1)) * ((np.cos(theta_0))**2 * X**2 + Y**2)\n",
        "\n",
        "  matrizEsferica = np.exp(1j *phase_diff_sph_obj)\n",
        "\n",
        "  imagEsf = np.angle(matrizEsferica)\n",
        "\n",
        "  plt.imshow(imagEsf[1424 - window_size: 1424 + window_size,\n",
        "                      1424 - window_size: 1424 + window_size],\n",
        "            cmap='gray',\n",
        "            norm = 'linear',\n",
        "            origin='lower',\n",
        "            )\n",
        "  plt.colorbar()\n",
        "  plt.axis('off')\n",
        "  plt.show()\n",
        "\n",
        "\n",
        "\n"
      ],
      "metadata": {
        "collapsed": true,
        "id": "PKCOjZQPRQgV"
      },
      "execution_count": null,
      "outputs": []
    },
    {
      "cell_type": "code",
      "source": [
        "for m in range(10):\n",
        "  R_1 = 5/(10**m)\n",
        "  print(R_1)\n",
        "\n",
        "\n",
        "  phase_diff_sph_obj= (2 * np.pi / lam) * np.sin(theta_0) * X + (np.pi / (lam * R_1)) * ((np.cos(theta_0))**2 * X**2 + Y**2)\n",
        "\n",
        "\n",
        "  matrizCampoGauss = np.exp(1j * (phase_diff_gauss + phase_diff_sph_obj))\n",
        "  CampoObjetoDeformadoFiltrado = low_pass_filter(matrizCampoGauss, maximum_freq_px)\n",
        "\n",
        "\n",
        "  matrizCampoAspero = np.exp(1j *( phase_diff_aspero + phase_diff_sph_obj))\n",
        "  CampoObjetoPlanoFiltrado = low_pass_filter(matrizCampoAspero, maximum_freq_px)\n",
        "\n",
        "    #Intensidad interferencia objeto gauss y referencia plana\n",
        "  intObjRefSpeck = np.abs(CampoObjetoDeformadoFiltrado + CampoRefSpeckFiltrado)**2\n",
        "\n",
        "  #Intensidad interferencia objeto plano y referencia plana\n",
        "  intObjPlanRefSpeck = np.abs(CampoObjetoPlanoFiltrado + CampoRefSpeckFiltrado)**2\n",
        "\n",
        "  resta = np.abs(intObjRefSpeck - intObjPlanRefSpeck)\n",
        "\n",
        "\n",
        "  plt.imshow(intObjRefSpeck[1424 - window_size: 1424 + window_size,\n",
        "                      1424 - window_size: 1424 + window_size],\n",
        "            cmap='gray',\n",
        "            #vmin=np.percentile(intObjRefSpeck, 15), vmax=np.percentile(intObjRefSpeck, 85),\n",
        "            norm = 'linear',\n",
        "            origin='lower',\n",
        "            )\n",
        "\n",
        "  #plt.title(\"Intensidad interferencia objeto y referencia plana\")\n",
        "  plt.axis('off')\n",
        "  #plt.savefig(r\"/home/mamarinmo/Documents/Estudio/InstrumentosOpticos/resta.png\", dpi=700, bbox_inches='tight', pad_inches=0)\n",
        "  plt.show()\n",
        "\n",
        "  plt.imshow(intObjPlanRefSpeck[1424 - window_size: 1424 + window_size,\n",
        "                      1424 - window_size: 1424 + window_size],\n",
        "            cmap='gray',\n",
        "            #vmin=np.percentile(intObjRefSpeck, 15), vmax=np.percentile(intObjRefSpeck, 85),\n",
        "            norm = 'linear',\n",
        "            origin='lower',\n",
        "            )\n",
        "\n",
        "  #plt.title(\"Intensidad interferencia objeto y referencia plana\")\n",
        "  plt.axis('off')\n",
        "  #plt.savefig(r\"/home/mamarinmo/Documents/Estudio/InstrumentosOpticos/resta.png\", dpi=700, bbox_inches='tight', pad_inches=0)\n",
        "  plt.show()"
      ],
      "metadata": {
        "id": "ZMGhYxJoVAAw"
      },
      "execution_count": null,
      "outputs": []
    }
  ]
}